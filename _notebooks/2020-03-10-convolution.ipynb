{
 "cells": [
  {
   "cell_type": "code",
   "execution_count": 1,
   "metadata": {},
   "outputs": [],
   "source": [
    "import numpy as np\n",
    "import matplotlib.pyplot as plt\n",
    "%matplotlib inline"
   ]
  },
  {
   "cell_type": "code",
   "execution_count": 54,
   "metadata": {},
   "outputs": [
    {
     "data": {
      "text/plain": [
       "(-1.0, 60.0, -1.0, 60.0)"
      ]
     },
     "execution_count": 54,
     "metadata": {},
     "output_type": "execute_result"
    },
    {
     "data": {
      "image/png": "[encoded data removed]",
      "text/plain": [
       "<Figure size 432x288 with 1 Axes>"
      ]
     },
     "metadata": {
      "needs_background": "light"
     },
     "output_type": "display_data"
    }
   ],
   "source": [
    "import matplotlib.patches as patches\n",
    "fig, ax = plt.subplots()\n",
    "# Create a Rectangle patch\n",
    "\n",
    "\n",
    "nx, ny = 5, 5\n",
    "gap = 10\n",
    "ar = np.round(np.random.randn(nx, ny), 1)\n",
    "rects = np.zeros((nx, ny)).tolist()\n",
    "for i in range(nx):\n",
    "    for j in range(ny):\n",
    "        rects[i][j] = patches.Rectangle((i*gap, j*gap),gap,gap,linewidth=1,edgecolor='k',facecolor='none')\n",
    "        ax.add_patch(rects[i][j])\n",
    "        ax.text(i*gap+gap/3, j*gap+gap/3, ar[i, j])\n",
    "\n",
    "\n",
    "# Add the patch to the Axes\n",
    "#ax.add_patch(patches.Rectangle((0,0),gap/2,gap/2,linewidth=10,edgecolor='r',facecolor='none'))\n",
    "\n",
    "\n",
    "ax.set_aspect('equal')\n",
    "plt.xlim((-1, gap*nx + gap))\n",
    "plt.ylim((-1, gap*ny + gap))\n",
    "plt.axis(\"off\")"
   ]
  },
  {
   "cell_type": "code",
   "execution_count": 59,
   "metadata": {},
   "outputs": [],
   "source": [
    "def plot_arr(arr, ax, gap):\n",
    "    nx, ny = arr.shape\n",
    "    rects = np.zeros((nx, ny)).tolist()\n",
    "    for i in range(nx):\n",
    "        for j in range(ny):\n",
    "            rects[i][j] = patches.Rectangle((i*gap, j*gap),gap,gap,linewidth=1,edgecolor='k',facecolor='none')\n",
    "            ax.add_patch(rects[i][j])\n",
    "            ax.text(i*gap+gap/3, j*gap+gap/3, arr[i, j])\n",
    "\n",
    "    ax.set_aspect('equal')\n",
    "    plt.xlim((-1, gap*nx + gap))\n",
    "    plt.ylim((-1, gap*ny + gap))\n",
    "    plt.axis(\"off\")\n"
   ]
  },
  {
   "cell_type": "code",
   "execution_count": 71,
   "metadata": {},
   "outputs": [
    {
     "name": "stdout",
     "output_type": "stream",
     "text": [
      "8 6\n"
     ]
    },
    {
     "data": {
      "image/png": "[encoded data removed]",
      "text/plain": [
       "<Figure size 432x288 with 1 Axes>"
      ]
     },
     "metadata": {
      "needs_background": "light"
     },
     "output_type": "display_data"
    }
   ],
   "source": [
    "fig, ax = plt.subplots()\n",
    "plot_arr(np.round(np.random.randn(8, 6)), ax, 4)"
   ]
  },
  {
   "cell_type": "code",
   "execution_count": 70,
   "metadata": {},
   "outputs": [
    {
     "name": "stdout",
     "output_type": "stream",
     "text": [
      "3 3\n"
     ]
    },
    {
     "data": {
      "image/png": "[encoded data removed]",
      "text/plain": [
       "<Figure size 432x288 with 1 Axes>"
      ]
     },
     "metadata": {
      "needs_background": "light"
     },
     "output_type": "display_data"
    }
   ],
   "source": [
    "fig, ax = plt.subplots()\n",
    "plot_arr(np.round(np.random.randn(3, 3)), ax, 4)"
   ]
  },
  {
   "cell_type": "code",
   "execution_count": null,
   "metadata": {},
   "outputs": [],
   "source": []
  }
 ],
 "metadata": {
  "kernelspec": {
   "display_name": "Python 3",
   "language": "python",
   "name": "python3"
  },
  "language_info": {
   "codemirror_mode": {
    "name": "ipython",
    "version": 3
   },
   "file_extension": ".py",
   "mimetype": "text/x-python",
   "name": "python",
   "nbconvert_exporter": "python",
   "pygments_lexer": "ipython3",
   "version": "3.7.4"
  }
 },
 "nbformat": 4,
 "nbformat_minor": 2
}
